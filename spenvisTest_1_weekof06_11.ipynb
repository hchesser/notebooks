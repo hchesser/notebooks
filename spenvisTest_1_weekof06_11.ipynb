{
  "nbformat": 4,
  "nbformat_minor": 0,
  "metadata": {
    "colab": {
      "name": "spenvisTest_1_weekof06-11.ipynb",
      "version": "0.3.2",
      "provenance": []
    },
    "kernelspec": {
      "display_name": "Python 2",
      "language": "python",
      "name": "python2"
    }
  },
  "cells": [
    {
      "cell_type": "markdown",
      "metadata": {
        "id": "view-in-github",
        "colab_type": "text"
      },
      "source": [
        "[View in Colaboratory](https://colab.research.google.com/github/hchesser/notebooks/blob/master/spenvisTest_1_weekof06_11.ipynb)"
      ]
    },
    {
      "metadata": {
        "id": "_nO8Y-50DF5Z",
        "colab_type": "code",
        "colab": {},
        "outputId": "fed893f0-7294-4cf5-8be0-9f418f96e132"
      },
      "cell_type": "code",
      "source": [
        "import sapi\n",
        "import random\n",
        "import string\n",
        "import time\n",
        "import sys\n",
        "\n",
        "def randomword(length):\n",
        "   return ''.join(random.choice(string.lowercase) for i in range(length))\n",
        "\n",
        "def is_running(ssn, myId):\n",
        "    \"\"\"Check if workflow execution is still running\"\"\"\n",
        "    status = s.getExecutionStatus(ssn, myId)\n",
        "    return True if hasattr(status,'state') and status.state == \"RUNNING\" else False\n",
        "\n",
        "# Some variables must be defined by the user here.\n",
        "## User name. Should be the same than the one in the config file.\n",
        "username = 'Mattd71'\n",
        "\n",
        "## Project name where the execution is to be saved. The project must already exists.\n",
        "prjname = 'API_learning'\n",
        "\n",
        "## Path to the workflow to be executed. Can be public or private. The path can be checked using the HMI, in the \"Workflow\" menu.\n",
        "workflow = '/common/workflows/SAPRE_EARTH_GEN'\n",
        "\n",
        "## Name of the execution. Here we use a fixed part and a random alphabetic section. This is done to produce unique names for each script execution and avoid collisions.\n",
        "execname = 'SAPRE_EARTH_GEN-' + randomword(10)\n",
        "\n",
        "## VOTable containing the input data necessary for the execution.\n",
        "votFile = 'sapre_earth_gen_input.xml'\n",
        "# votFile = 'test-input.xml'\n",
        "\n",
        "## XML file containing the links between the required parameters to start \n",
        "## an execution and the associated resource in the input VOT.\n",
        "## The text @path@ will be replaced by the actual path automatically.\n",
        "datamodel = 'sapre_earth_gen_datamodel.xml'\n",
        "\n",
        "# End of user-defined variables.\n",
        "\n",
        "# Log in\n",
        "print(\"Logging in the system.\")\n",
        "s = sapi.Session(\"global.conf\", \"\")\n",
        "s.readglobalconfig()\n",
        "ssn = s.login()\n",
        "\n",
        "# Create execution.\n",
        "print \"Creating the execution. \"\n",
        "myId=s.createExecution(ssn, username, prjname, execname, workflow, votFile, datamodel)\n",
        "\n",
        "# Print the execution ID returned. Can be useful to check in the HMI.\n",
        "print \"Execution name: \" + execname + \" \"\n",
        "print \"Execution ID: \" + str(myId)\n",
        "\n",
        "# Start execution\n",
        "print \"Starting the execution. \"\n",
        "sys.stdout.flush()\n",
        "s.startExecution(ssn, myId)\n",
        "sys.stdout.flush()\n",
        "print \"Execution started. \"\n",
        "\n",
        "# Check status until not in RUNNING state. It could be FINISHED or ERROR. It will be \"WAITING_FOR_INPUTS\" if the startExecution step didn't work. \n",
        "n = 0\n",
        "while n < 100 : \n",
        "    n = n + 1\n",
        "    status = s.getExecutionStatus(ssn, myId)\n",
        "    if hasattr(status,'state'):\n",
        "        if status.state == \"RUNNING\":\n",
        "            print(\"Still in RUNNING state. \")\n",
        "            time.sleep(5)\n",
        "        else:\n",
        "            print(\"New state: \"+ status.state)\n",
        "            break\n",
        "    else:\n",
        "        print \"NO STATUS \" + status\n",
        "        break\n",
        "\n",
        "# Get VOTable for the whole output information\n",
        "print(\"Getting output VOTable.\")\n",
        "outputvot = s.getVOT(ssn, username, prjname, execname)\n",
        "\n",
        "# Save the VOT to disk. It will be a zip file with all the content.\n",
        "target = open('output_votable.zip','wb')\n",
        "target.write(outputvot)\n",
        "target.close()"
      ],
      "execution_count": 0,
      "outputs": [
        {
          "output_type": "stream",
          "text": [
            "Logging in the system.\n",
            "Creating the execution. \n",
            "Execution name: SAPRE_EARTH_GEN-vyglulshwc \n",
            "Execution ID: 32625\n",
            "Starting the execution. \n",
            "Execution started. \n",
            "Still in RUNNING state. \n",
            "Still in RUNNING state. \n",
            "New state: FINISHED\n",
            "Getting output VOTable.\n"
          ],
          "name": "stdout"
        }
      ]
    },
    {
      "metadata": {
        "id": "MCVPhP1TDF5n",
        "colab_type": "code",
        "colab": {}
      },
      "cell_type": "code",
      "source": [
        ""
      ],
      "execution_count": 0,
      "outputs": []
    },
    {
      "metadata": {
        "id": "2C4fjvEfDF5v",
        "colab_type": "code",
        "colab": {}
      },
      "cell_type": "code",
      "source": [
        ""
      ],
      "execution_count": 0,
      "outputs": []
    }
  ]
}